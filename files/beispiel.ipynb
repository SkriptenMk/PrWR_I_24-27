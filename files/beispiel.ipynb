{
 "cells": [
  {
   "cell_type": "markdown",
   "id": "cdc168ec",
   "metadata": {},
   "source": [
    "# Beispiel Notebook\n",
    "\n",
    "Dies ist ein Beispiel für ein Jupyter Notebook. In einem Jupyter\n",
    "Notebook kann mit Markdown formatierter Text mit ausführbarem Code\n",
    "kombiniert weren."
   ]
  },
  {
   "cell_type": "code",
   "execution_count": 1,
   "id": "ff9824a3",
   "metadata": {},
   "outputs": [
    {
     "name": "stdout",
     "output_type": "stream",
     "text": [
      "Hello, World!\n"
     ]
    }
   ],
   "source": [
    "print(\"Hello, World!\")"
   ]
  },
  {
   "cell_type": "markdown",
   "id": "d9be314d",
   "metadata": {},
   "source": [
    "Download: [Diese Date als Jupyter Notebook herunterladen](../files/beispiel.ipynb)"
   ]
  }
 ],
 "metadata": {
  "kernelspec": {
   "display_name": ".venv",
   "language": "python",
   "name": "python3"
  },
  "language_info": {
   "codemirror_mode": {
    "name": "ipython",
    "version": 3
   },
   "file_extension": ".py",
   "mimetype": "text/x-python",
   "name": "python",
   "nbconvert_exporter": "python",
   "pygments_lexer": "ipython3",
   "version": "3.13.1"
  }
 },
 "nbformat": 4,
 "nbformat_minor": 5
}
